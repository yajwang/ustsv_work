{
 "cells": [
  {
   "cell_type": "code",
   "execution_count": 1,
   "metadata": {},
   "outputs": [],
   "source": [
    "import pandas as pd\n",
    "import numpy as np\n",
    "import os\n",
    "#os.getcwd()\n",
    "os.chdir('/Users/yajwang/Data')"
   ]
  },
  {
   "cell_type": "code",
   "execution_count": 6,
   "metadata": {},
   "outputs": [
    {
     "data": {
      "text/plain": [
       "location_id     object\n",
       "review_id       object\n",
       "source          object\n",
       "date            object\n",
       "rating         float64\n",
       "dtype: object"
      ]
     },
     "execution_count": 6,
     "metadata": {},
     "output_type": "execute_result"
    }
   ],
   "source": [
    "df = pd.read_csv('reviews.csv')\n",
    "df.dtypes"
   ]
  },
  {
   "cell_type": "code",
   "execution_count": 15,
   "metadata": {},
   "outputs": [
    {
     "data": {
      "text/plain": [
       "array(['GOOGLE_PLACES', 'FACEBOOK', 'CARS'], dtype=object)"
      ]
     },
     "execution_count": 15,
     "metadata": {},
     "output_type": "execute_result"
    }
   ],
   "source": [
    "df.source.unique()"
   ]
  },
  {
   "cell_type": "code",
   "execution_count": 5,
   "metadata": {
    "scrolled": true
   },
   "outputs": [
    {
     "data": {
      "text/html": [
       "<div>\n",
       "<style scoped>\n",
       "    .dataframe tbody tr th:only-of-type {\n",
       "        vertical-align: middle;\n",
       "    }\n",
       "\n",
       "    .dataframe tbody tr th {\n",
       "        vertical-align: top;\n",
       "    }\n",
       "\n",
       "    .dataframe thead th {\n",
       "        text-align: right;\n",
       "    }\n",
       "</style>\n",
       "<table border=\"1\" class=\"dataframe\">\n",
       "  <thead>\n",
       "    <tr style=\"text-align: right;\">\n",
       "      <th></th>\n",
       "      <th>location_id</th>\n",
       "      <th>review_id</th>\n",
       "      <th>source</th>\n",
       "      <th>date</th>\n",
       "      <th>rating</th>\n",
       "    </tr>\n",
       "  </thead>\n",
       "  <tbody>\n",
       "    <tr>\n",
       "      <td>106</td>\n",
       "      <td>4962_380</td>\n",
       "      <td>1.76877E+11</td>\n",
       "      <td>FACEBOOK</td>\n",
       "      <td>1/19/14</td>\n",
       "      <td>1.0</td>\n",
       "    </tr>\n",
       "    <tr>\n",
       "      <td>219</td>\n",
       "      <td>4962_380</td>\n",
       "      <td>1.71558E+11</td>\n",
       "      <td>FACEBOOK</td>\n",
       "      <td>2/17/14</td>\n",
       "      <td>1.0</td>\n",
       "    </tr>\n",
       "    <tr>\n",
       "      <td>396</td>\n",
       "      <td>4962_380</td>\n",
       "      <td>39169370013</td>\n",
       "      <td>GOOGLE_PLACES</td>\n",
       "      <td>4/2/14</td>\n",
       "      <td>1.0</td>\n",
       "    </tr>\n",
       "    <tr>\n",
       "      <td>515</td>\n",
       "      <td>4962_380</td>\n",
       "      <td>1.57347E+11</td>\n",
       "      <td>FACEBOOK</td>\n",
       "      <td>4/27/14</td>\n",
       "      <td>1.0</td>\n",
       "    </tr>\n",
       "    <tr>\n",
       "      <td>562</td>\n",
       "      <td>4962_380</td>\n",
       "      <td>1.62497E+11</td>\n",
       "      <td>FACEBOOK</td>\n",
       "      <td>5/3/14</td>\n",
       "      <td>1.0</td>\n",
       "    </tr>\n",
       "    <tr>\n",
       "      <td>...</td>\n",
       "      <td>...</td>\n",
       "      <td>...</td>\n",
       "      <td>...</td>\n",
       "      <td>...</td>\n",
       "      <td>...</td>\n",
       "    </tr>\n",
       "    <tr>\n",
       "      <td>178283</td>\n",
       "      <td>4962_380</td>\n",
       "      <td>40902791035</td>\n",
       "      <td>GOOGLE_PLACES</td>\n",
       "      <td>3/26/18</td>\n",
       "      <td>5.0</td>\n",
       "    </tr>\n",
       "    <tr>\n",
       "      <td>178523</td>\n",
       "      <td>4962_380</td>\n",
       "      <td>1.57382E+11</td>\n",
       "      <td>FACEBOOK</td>\n",
       "      <td>3/27/18</td>\n",
       "      <td>5.0</td>\n",
       "    </tr>\n",
       "    <tr>\n",
       "      <td>178893</td>\n",
       "      <td>4962_380</td>\n",
       "      <td>41278487324</td>\n",
       "      <td>GOOGLE_PLACES</td>\n",
       "      <td>3/29/18</td>\n",
       "      <td>5.0</td>\n",
       "    </tr>\n",
       "    <tr>\n",
       "      <td>178960</td>\n",
       "      <td>4962_380</td>\n",
       "      <td>1.24463E+11</td>\n",
       "      <td>FACEBOOK</td>\n",
       "      <td>3/29/18</td>\n",
       "      <td>5.0</td>\n",
       "    </tr>\n",
       "    <tr>\n",
       "      <td>179194</td>\n",
       "      <td>4962_380</td>\n",
       "      <td>38693953000</td>\n",
       "      <td>GOOGLE_PLACES</td>\n",
       "      <td>3/30/18</td>\n",
       "      <td>5.0</td>\n",
       "    </tr>\n",
       "  </tbody>\n",
       "</table>\n",
       "<p>639 rows × 5 columns</p>\n",
       "</div>"
      ],
      "text/plain": [
       "       location_id    review_id         source     date  rating\n",
       "106       4962_380  1.76877E+11       FACEBOOK  1/19/14     1.0\n",
       "219       4962_380  1.71558E+11       FACEBOOK  2/17/14     1.0\n",
       "396       4962_380  39169370013  GOOGLE_PLACES   4/2/14     1.0\n",
       "515       4962_380  1.57347E+11       FACEBOOK  4/27/14     1.0\n",
       "562       4962_380  1.62497E+11       FACEBOOK   5/3/14     1.0\n",
       "...            ...          ...            ...      ...     ...\n",
       "178283    4962_380  40902791035  GOOGLE_PLACES  3/26/18     5.0\n",
       "178523    4962_380  1.57382E+11       FACEBOOK  3/27/18     5.0\n",
       "178893    4962_380  41278487324  GOOGLE_PLACES  3/29/18     5.0\n",
       "178960    4962_380  1.24463E+11       FACEBOOK  3/29/18     5.0\n",
       "179194    4962_380  38693953000  GOOGLE_PLACES  3/30/18     5.0\n",
       "\n",
       "[639 rows x 5 columns]"
      ]
     },
     "execution_count": 5,
     "metadata": {},
     "output_type": "execute_result"
    }
   ],
   "source": [
    "df[df.location_id == '4962_380']"
   ]
  },
  {
   "cell_type": "code",
   "execution_count": 7,
   "metadata": {},
   "outputs": [],
   "source": [
    "df['datetime']=pd.to_datetime(df['date'])"
   ]
  },
  {
   "cell_type": "code",
   "execution_count": 10,
   "metadata": {},
   "outputs": [],
   "source": [
    "from datetime import datetime\n",
    "\n",
    "df['timestamp'] = [datetime.timestamp(d) for d in df['datetime']]"
   ]
  },
  {
   "cell_type": "code",
   "execution_count": 13,
   "metadata": {},
   "outputs": [
    {
     "name": "stdout",
     "output_type": "stream",
     "text": [
      "1583454349.696676\n"
     ]
    }
   ],
   "source": [
    "ts = datetime.now().timestamp()\n",
    "print(ts)"
   ]
  },
  {
   "cell_type": "code",
   "execution_count": 16,
   "metadata": {
    "scrolled": true
   },
   "outputs": [
    {
     "data": {
      "text/html": [
       "<div>\n",
       "<style scoped>\n",
       "    .dataframe tbody tr th:only-of-type {\n",
       "        vertical-align: middle;\n",
       "    }\n",
       "\n",
       "    .dataframe tbody tr th {\n",
       "        vertical-align: top;\n",
       "    }\n",
       "\n",
       "    .dataframe thead th {\n",
       "        text-align: right;\n",
       "    }\n",
       "</style>\n",
       "<table border=\"1\" class=\"dataframe\">\n",
       "  <thead>\n",
       "    <tr style=\"text-align: right;\">\n",
       "      <th></th>\n",
       "      <th>location_id</th>\n",
       "      <th>review_id</th>\n",
       "      <th>source</th>\n",
       "      <th>date</th>\n",
       "      <th>rating</th>\n",
       "      <th>datetime</th>\n",
       "      <th>timestamp</th>\n",
       "    </tr>\n",
       "  </thead>\n",
       "  <tbody>\n",
       "    <tr>\n",
       "      <td>0</td>\n",
       "      <td>4962_221</td>\n",
       "      <td>test_1895327047</td>\n",
       "      <td>GOOGLE_PLACES</td>\n",
       "      <td>10/20/15</td>\n",
       "      <td>1.0</td>\n",
       "      <td>2015-10-20</td>\n",
       "      <td>1.445324e+09</td>\n",
       "    </tr>\n",
       "    <tr>\n",
       "      <td>1</td>\n",
       "      <td>4962_221</td>\n",
       "      <td>test_18961550118</td>\n",
       "      <td>FACEBOOK</td>\n",
       "      <td>11/27/17</td>\n",
       "      <td>1.0</td>\n",
       "      <td>2017-11-27</td>\n",
       "      <td>1.511770e+09</td>\n",
       "    </tr>\n",
       "    <tr>\n",
       "      <td>2</td>\n",
       "      <td>4962_221</td>\n",
       "      <td>test_2044312531</td>\n",
       "      <td>FACEBOOK</td>\n",
       "      <td>11/15/17</td>\n",
       "      <td>1.0</td>\n",
       "      <td>2017-11-15</td>\n",
       "      <td>1.510733e+09</td>\n",
       "    </tr>\n",
       "    <tr>\n",
       "      <td>3</td>\n",
       "      <td>4962_221</td>\n",
       "      <td>test_21399832280</td>\n",
       "      <td>FACEBOOK</td>\n",
       "      <td>7/17/17</td>\n",
       "      <td>1.0</td>\n",
       "      <td>2017-07-17</td>\n",
       "      <td>1.500275e+09</td>\n",
       "    </tr>\n",
       "    <tr>\n",
       "      <td>4</td>\n",
       "      <td>4962_221</td>\n",
       "      <td>test_21516225526</td>\n",
       "      <td>FACEBOOK</td>\n",
       "      <td>1/11/16</td>\n",
       "      <td>1.0</td>\n",
       "      <td>2016-01-11</td>\n",
       "      <td>1.452499e+09</td>\n",
       "    </tr>\n",
       "  </tbody>\n",
       "</table>\n",
       "</div>"
      ],
      "text/plain": [
       "  location_id         review_id         source      date  rating   datetime  \\\n",
       "0    4962_221   test_1895327047  GOOGLE_PLACES  10/20/15     1.0 2015-10-20   \n",
       "1    4962_221  test_18961550118       FACEBOOK  11/27/17     1.0 2017-11-27   \n",
       "2    4962_221   test_2044312531       FACEBOOK  11/15/17     1.0 2017-11-15   \n",
       "3    4962_221  test_21399832280       FACEBOOK   7/17/17     1.0 2017-07-17   \n",
       "4    4962_221  test_21516225526       FACEBOOK   1/11/16     1.0 2016-01-11   \n",
       "\n",
       "      timestamp  \n",
       "0  1.445324e+09  \n",
       "1  1.511770e+09  \n",
       "2  1.510733e+09  \n",
       "3  1.500275e+09  \n",
       "4  1.452499e+09  "
      ]
     },
     "execution_count": 16,
     "metadata": {},
     "output_type": "execute_result"
    }
   ],
   "source": [
    "df.head()"
   ]
  },
  {
   "cell_type": "code",
   "execution_count": 23,
   "metadata": {},
   "outputs": [
    {
     "name": "stderr",
     "output_type": "stream",
     "text": [
      "/opt/anaconda3/lib/python3.7/site-packages/ipykernel_launcher.py:3: SettingWithCopyWarning: \n",
      "A value is trying to be set on a copy of a slice from a DataFrame.\n",
      "Try using .loc[row_indexer,col_indexer] = value instead\n",
      "\n",
      "See the caveats in the documentation: http://pandas.pydata.org/pandas-docs/stable/user_guide/indexing.html#returning-a-view-versus-a-copy\n",
      "  This is separate from the ipykernel package so we can avoid doing imports until\n"
     ]
    },
    {
     "data": {
      "text/plain": [
       "4.5638061324657375"
      ]
     },
     "execution_count": 23,
     "metadata": {},
     "output_type": "execute_result"
    }
   ],
   "source": [
    "def rating(loc_id):\n",
    "    df_id = df[df.location_id == loc_id]\n",
    "    df_id['adj_rating'] = 3 + (df_id['rating'] - 3)*(1 - ((ts-df_id['timestamp'])/ts))\n",
    "    return df_id['adj_rating'].mean()\n",
    "\n",
    "\n",
    "rating('4962_380')"
   ]
  },
  {
   "cell_type": "code",
   "execution_count": 29,
   "metadata": {},
   "outputs": [
    {
     "name": "stderr",
     "output_type": "stream",
     "text": [
      "/opt/anaconda3/lib/python3.7/site-packages/ipykernel_launcher.py:3: SettingWithCopyWarning: \n",
      "A value is trying to be set on a copy of a slice from a DataFrame.\n",
      "Try using .loc[row_indexer,col_indexer] = value instead\n",
      "\n",
      "See the caveats in the documentation: http://pandas.pydata.org/pandas-docs/stable/user_guide/indexing.html#returning-a-view-versus-a-copy\n",
      "  This is separate from the ipykernel package so we can avoid doing imports until\n"
     ]
    }
   ],
   "source": [
    "rank = pd.DataFrame(df['location_id'].unique(), columns=['location'])\n",
    "\n",
    "rank['rating'] = [rating(x) for x in rank['location']]"
   ]
  },
  {
   "cell_type": "code",
   "execution_count": 46,
   "metadata": {},
   "outputs": [
    {
     "data": {
      "text/html": [
       "<div>\n",
       "<style scoped>\n",
       "    .dataframe tbody tr th:only-of-type {\n",
       "        vertical-align: middle;\n",
       "    }\n",
       "\n",
       "    .dataframe tbody tr th {\n",
       "        vertical-align: top;\n",
       "    }\n",
       "\n",
       "    .dataframe thead th {\n",
       "        text-align: right;\n",
       "    }\n",
       "</style>\n",
       "<table border=\"1\" class=\"dataframe\">\n",
       "  <thead>\n",
       "    <tr style=\"text-align: right;\">\n",
       "      <th></th>\n",
       "      <th>location</th>\n",
       "      <th>rating</th>\n",
       "      <th>rank</th>\n",
       "    </tr>\n",
       "  </thead>\n",
       "  <tbody>\n",
       "    <tr>\n",
       "      <td>0</td>\n",
       "      <td>4962_221</td>\n",
       "      <td>4.400586</td>\n",
       "      <td>155</td>\n",
       "    </tr>\n",
       "    <tr>\n",
       "      <td>1</td>\n",
       "      <td>4962_147</td>\n",
       "      <td>4.255243</td>\n",
       "      <td>91</td>\n",
       "    </tr>\n",
       "    <tr>\n",
       "      <td>2</td>\n",
       "      <td>4962_185</td>\n",
       "      <td>4.415295</td>\n",
       "      <td>162</td>\n",
       "    </tr>\n",
       "    <tr>\n",
       "      <td>3</td>\n",
       "      <td>4962_930</td>\n",
       "      <td>4.472282</td>\n",
       "      <td>182</td>\n",
       "    </tr>\n",
       "    <tr>\n",
       "      <td>4</td>\n",
       "      <td>4962_669</td>\n",
       "      <td>4.367846</td>\n",
       "      <td>139</td>\n",
       "    </tr>\n",
       "    <tr>\n",
       "      <td>...</td>\n",
       "      <td>...</td>\n",
       "      <td>...</td>\n",
       "      <td>...</td>\n",
       "    </tr>\n",
       "    <tr>\n",
       "      <td>247</td>\n",
       "      <td>4962_69</td>\n",
       "      <td>4.680139</td>\n",
       "      <td>247</td>\n",
       "    </tr>\n",
       "    <tr>\n",
       "      <td>248</td>\n",
       "      <td>4962_131</td>\n",
       "      <td>4.772765</td>\n",
       "      <td>252</td>\n",
       "    </tr>\n",
       "    <tr>\n",
       "      <td>249</td>\n",
       "      <td>4962_875</td>\n",
       "      <td>4.696190</td>\n",
       "      <td>248</td>\n",
       "    </tr>\n",
       "    <tr>\n",
       "      <td>250</td>\n",
       "      <td>4962_798</td>\n",
       "      <td>4.648632</td>\n",
       "      <td>238</td>\n",
       "    </tr>\n",
       "    <tr>\n",
       "      <td>251</td>\n",
       "      <td>4962_289</td>\n",
       "      <td>4.510449</td>\n",
       "      <td>197</td>\n",
       "    </tr>\n",
       "  </tbody>\n",
       "</table>\n",
       "<p>252 rows × 3 columns</p>\n",
       "</div>"
      ],
      "text/plain": [
       "     location    rating  rank\n",
       "0    4962_221  4.400586   155\n",
       "1    4962_147  4.255243    91\n",
       "2    4962_185  4.415295   162\n",
       "3    4962_930  4.472282   182\n",
       "4    4962_669  4.367846   139\n",
       "..        ...       ...   ...\n",
       "247   4962_69  4.680139   247\n",
       "248  4962_131  4.772765   252\n",
       "249  4962_875  4.696190   248\n",
       "250  4962_798  4.648632   238\n",
       "251  4962_289  4.510449   197\n",
       "\n",
       "[252 rows x 3 columns]"
      ]
     },
     "execution_count": 46,
     "metadata": {},
     "output_type": "execute_result"
    }
   ],
   "source": [
    "rank['rank']=rank['rating'].rank().astype('int64')\n",
    "rank"
   ]
  },
  {
   "cell_type": "code",
   "execution_count": 101,
   "metadata": {},
   "outputs": [
    {
     "name": "stderr",
     "output_type": "stream",
     "text": [
      "/opt/anaconda3/lib/python3.7/site-packages/ipykernel_launcher.py:3: DeprecationWarning: np.asscalar(a) is deprecated since NumPy v1.16, use a.item() instead\n",
      "  This is separate from the ipykernel package so we can avoid doing imports until\n"
     ]
    }
   ],
   "source": [
    "result = []\n",
    "for x in ['4962_201', '4962_380', '4962_381', '4962_915']:\n",
    "    rk_x = np.asscalar(rank[rank['location']== x]['rank'].values)\n",
    "    result.append([x, rk_x])"
   ]
  },
  {
   "cell_type": "code",
   "execution_count": 102,
   "metadata": {},
   "outputs": [
    {
     "data": {
      "text/html": [
       "<div>\n",
       "<style scoped>\n",
       "    .dataframe tbody tr th:only-of-type {\n",
       "        vertical-align: middle;\n",
       "    }\n",
       "\n",
       "    .dataframe tbody tr th {\n",
       "        vertical-align: top;\n",
       "    }\n",
       "\n",
       "    .dataframe thead th {\n",
       "        text-align: right;\n",
       "    }\n",
       "</style>\n",
       "<table border=\"1\" class=\"dataframe\">\n",
       "  <thead>\n",
       "    <tr style=\"text-align: right;\">\n",
       "      <th></th>\n",
       "      <th>location_id</th>\n",
       "      <th>rank</th>\n",
       "    </tr>\n",
       "  </thead>\n",
       "  <tbody>\n",
       "    <tr>\n",
       "      <td>0</td>\n",
       "      <td>4962_201</td>\n",
       "      <td>233</td>\n",
       "    </tr>\n",
       "    <tr>\n",
       "      <td>1</td>\n",
       "      <td>4962_380</td>\n",
       "      <td>218</td>\n",
       "    </tr>\n",
       "    <tr>\n",
       "      <td>2</td>\n",
       "      <td>4962_381</td>\n",
       "      <td>172</td>\n",
       "    </tr>\n",
       "    <tr>\n",
       "      <td>3</td>\n",
       "      <td>4962_915</td>\n",
       "      <td>199</td>\n",
       "    </tr>\n",
       "  </tbody>\n",
       "</table>\n",
       "</div>"
      ],
      "text/plain": [
       "  location_id  rank\n",
       "0    4962_201   233\n",
       "1    4962_380   218\n",
       "2    4962_381   172\n",
       "3    4962_915   199"
      ]
     },
     "execution_count": 102,
     "metadata": {},
     "output_type": "execute_result"
    }
   ],
   "source": [
    "result = pd.DataFrame(result, columns=['location_id', 'rank'])\n",
    "result"
   ]
  },
  {
   "cell_type": "markdown",
   "metadata": {},
   "source": [
    "If I have access to other data, I would like to have demographic information of the reviewers."
   ]
  }
 ],
 "metadata": {
  "kernelspec": {
   "display_name": "Python 3",
   "language": "python",
   "name": "python3"
  },
  "language_info": {
   "codemirror_mode": {
    "name": "ipython",
    "version": 3
   },
   "file_extension": ".py",
   "mimetype": "text/x-python",
   "name": "python",
   "nbconvert_exporter": "python",
   "pygments_lexer": "ipython3",
   "version": "3.7.4"
  }
 },
 "nbformat": 4,
 "nbformat_minor": 2
}
